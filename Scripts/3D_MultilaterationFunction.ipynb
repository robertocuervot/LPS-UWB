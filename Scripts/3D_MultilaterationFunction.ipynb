{
  "nbformat": 4,
  "nbformat_minor": 0,
  "metadata": {
    "colab": {
      "provenance": []
    },
    "kernelspec": {
      "name": "python3",
      "display_name": "Python 3"
    },
    "language_info": {
      "name": "python"
    }
  },
  "cells": [
    {
      "cell_type": "markdown",
      "source": [
        "# Multilateration 3D V1.0"
      ],
      "metadata": {
        "id": "q-fw0djnRAJC"
      }
    },
    {
      "cell_type": "code",
      "source": [
        "def multilateration_3d(d0, d1, d2, d3):"
      ],
      "metadata": {
        "id": "1yLR0IRRQ5JM"
      },
      "execution_count": null,
      "outputs": []
    },
    {
      "cell_type": "markdown",
      "source": [
        "This function receives the distances that the tag calculates with respect to each anchor and performs the necessary calculations to obtain the position of the tag in space as coordinates. As there are 4 anchors, the system should be able to calculate the position in the 3D space as X Y Z. Precisely the 4 parameters that the function receives are each of these distances."
      ],
      "metadata": {
        "id": "ZI46SUhw4Dgm"
      }
    },
    {
      "cell_type": "markdown",
      "source": [
        "\n",
        "\n",
        "*   This section assumes there's a dictionary called\n",
        "`anchors` containing the coordinates of the anchors.\n",
        "*   It retrieves the (x, y, z) coordinates of each anchor (an0, an1, an2, an3) from the anchors dictionary and assigns them to respective variables."
      ],
      "metadata": {
        "id": "ugBAasy_RhuT"
      }
    },
    {
      "cell_type": "code",
      "source": [
        "  x0, y0, z0 = anchors[\"an0\"]\n",
        "  x1, y1, z1 = anchors[\"an1\"]\n",
        "  x2, y2, z2 = anchors[\"an2\"]\n",
        "  x3, y3, z3 = anchors[\"an3\"]"
      ],
      "metadata": {
        "id": "HxutLjneRYBj"
      },
      "execution_count": null,
      "outputs": []
    },
    {
      "cell_type": "markdown",
      "source": [
        "## System of equations\n",
        "\n",
        "The general equation for a sphere centered at (x₀, y₀, z₀) with radius d₀ is:\n",
        "\n",
        "\\begin{align}\n",
        "(x - x_0)^2 + (y - y_0)^2 + (z - z_0)^2 = d_0^2\n",
        "\\end{align}\n",
        "\n",
        "This equation holds for each anchor-tag distance pair.\n",
        "\n",
        "Expanding the equation for two spheres (anchor 0 and anchor 1), subtracting them eliminates the squared terms and gives a linear equation:\n",
        "\n",
        "\\begin{align}\n",
        "2(x_1 - x_0)x + 2(y_1 - y_0)y + 2(z_1 - z_0)z = d_0^2 - d_1^2 - x_0^2 + x_1^2 - y_0^2 + y_1^2 - z_0^2 + z_1^2\n",
        "\\end{align}\n",
        "\n",
        "This same process is repeated for the remaining three spheres. So for each equation we define 4 constants:\n",
        "\n",
        "Here, (A, B, C, D) define the first linear equation, (E, F, G, H) define the second, and (I, J, K, L) define the third."
      ],
      "metadata": {
        "id": "J3JcYnn_S-3J"
      }
    },
    {
      "cell_type": "code",
      "source": [
        "  A = 2 * (x1 - x0)\n",
        "  B = 2 * (y1 - y0)\n",
        "  C = 2 * (z1 - z0)\n",
        "  D = d0**2 - d1**2 - x0**2 + x1**2 - y0**2 + y1**2 - z0**2 + z1**2\n",
        "\n",
        "  E = 2 * (x2 - x0)\n",
        "  F = 2 * (y2 - y0)\n",
        "  G = 2 * (z2 - z0)\n",
        "  H = d0**2 - d2**2 - x0**2 + x2**2 - y0**2 + y2**2 - z0**2 + z2**2\n",
        "\n",
        "  I = 2 * (x3 - x0)\n",
        "  J = 2 * (y3 - y0)\n",
        "  K = 2 * (z3 - z0)\n",
        "  L = d0**2 - d3**2 - x0**2 + x3**2 - y0**2 + y3**2 - z0**2 + z3**2"
      ],
      "metadata": {
        "id": "sZyj2dmTS4Af"
      },
      "execution_count": null,
      "outputs": []
    },
    {
      "cell_type": "markdown",
      "source": [
        "## Creating the System of Equations in Matrix Form\n",
        "We now have a system of three equations with three unknowns **(x, y, z)**:\n",
        "\n",
        "\\begin{align}\n",
        "\\begin{bmatrix}\n",
        "A & B & C \\\\\n",
        "E & F & G \\\\\n",
        "I & J & K\n",
        "\\end{bmatrix}\n",
        "\\begin{bmatrix}\n",
        "x \\\\\n",
        "y \\\\\n",
        "z\n",
        "\\end{bmatrix}\n",
        "=\n",
        "\\begin{bmatrix}\n",
        "D \\\\\n",
        "H \\\\\n",
        "L\n",
        "\\end{bmatrix}\n",
        "\\end{align}\n",
        "\n",
        "This is rewritten in NumPy as:"
      ],
      "metadata": {
        "id": "z9HHsUkcZtZ0"
      }
    },
    {
      "cell_type": "code",
      "source": [
        "  matrix = np.array([[A, B, C], [E, F, G], [I, J, K]])\n",
        "  values = np.array([D, H, L])"
      ],
      "metadata": {
        "id": "gE9pCsBMaOMm"
      },
      "execution_count": null,
      "outputs": []
    },
    {
      "cell_type": "markdown",
      "source": [
        "## Solving for (x, y, z) Using NumPy\n",
        "\n",
        "*   `np.linalg.solve(matrix, values)` computes the solution (x, y, z).\n",
        "*   If the system is unsolvable (e.g., matrix is singular, meaning the anchors are collinear or too close together), it catches the error and returns `None`."
      ],
      "metadata": {
        "id": "8-D-xQmLa2Is"
      }
    },
    {
      "cell_type": "code",
      "source": [
        "  try:\n",
        "    position = np.linalg.solve(matrix, values)\n",
        "    return position[0], position[1], position[2]\n",
        "  except np.linalg.LinAlgError:\n",
        "    return None"
      ],
      "metadata": {
        "id": "-5EfgXqScMKB"
      },
      "execution_count": null,
      "outputs": []
    },
    {
      "cell_type": "markdown",
      "source": [],
      "metadata": {
        "id": "6wlG9wcg35Co"
      }
    }
  ]
}